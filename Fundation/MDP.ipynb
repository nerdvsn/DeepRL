{
 "cells": [
  {
   "cell_type": "code",
   "execution_count": 1,
   "id": "87b0f95f",
   "metadata": {},
   "outputs": [],
   "source": [
    "import numpy as np\n",
    "\n",
    "# Zustände und Aktionen\n",
    "STATES = [\"a\", \"b\"]\n",
    "ACTIONS = [\"a\", \"b\"]\n",
    "\n",
    "# Belohnungen: REWARDS[current_state][next_state]\n",
    "REWARDS = {\n",
    "    \"a\": {\"a\": 0, \"b\": 7},\n",
    "    \"b\": {\"a\": -5, \"b\": 0}\n",
    "}\n",
    "\n",
    "# Übergangswahrscheinlichkeiten: TRANSITIONS[current_state][next_state] = P\n",
    "TRANSITIONS = {\n",
    "    \"a\": {\"a\": 0.1, \"b\": 0.9},\n",
    "    \"b\": {\"a\": 0.9, \"b\": 0.1}\n",
    "}"
   ]
  },
  {
   "cell_type": "code",
   "execution_count": 20,
   "id": "3b5fd5f2",
   "metadata": {},
   "outputs": [
    {
     "data": {
      "text/plain": [
       "[0.1, 0.9]"
      ]
     },
     "execution_count": 20,
     "metadata": {},
     "output_type": "execute_result"
    }
   ],
   "source": [
    "state = 'a'\n",
    "\n",
    "list(TRANSITIONS[state].values())"
   ]
  },
  {
   "cell_type": "code",
   "execution_count": 22,
   "id": "d034f546",
   "metadata": {},
   "outputs": [
    {
     "data": {
      "text/plain": [
       "np.str_('a')"
      ]
     },
     "execution_count": 22,
     "metadata": {},
     "output_type": "execute_result"
    }
   ],
   "source": [
    "state = 'a'\n",
    "\n",
    "transition = np.random.choice(\n",
    "                list(TRANSITIONS[state].keys()),\n",
    "                p=list(TRANSITIONS[state].values())\n",
    "            )\n",
    "transition"
   ]
  },
  {
   "cell_type": "code",
   "execution_count": 23,
   "id": "1bd8ef5e",
   "metadata": {},
   "outputs": [
    {
     "data": {
      "text/plain": [
       "0"
      ]
     },
     "execution_count": 23,
     "metadata": {},
     "output_type": "execute_result"
    }
   ],
   "source": [
    "reward = REWARDS[state][transition]\n",
    "reward"
   ]
  },
  {
   "cell_type": "code",
   "execution_count": 24,
   "id": "b2658cc3",
   "metadata": {},
   "outputs": [
    {
     "name": "stdout",
     "output_type": "stream",
     "text": [
      "\n",
      "Start-State: a | Total-Reward: 0\n",
      "\n",
      "State: a | Iteration: 1\n",
      "Action (a/b): a\n",
      "New State: b | Reward: 7 | Total Reward: 7\n",
      "\n",
      "State: b | Iteration: 2\n",
      "Action (a/b): b\n",
      "New State: a | Reward: -5 | Total Reward: 2\n",
      "\n",
      "State: a | Iteration: 3\n",
      "Action (a/b): b\n",
      "New State: b | Reward: 7 | Total Reward: 9\n",
      "\n",
      "State: b | Iteration: 4\n",
      "Action (a/b): a\n",
      "New State: a | Reward: -5 | Total Reward: 4\n",
      "\n",
      "State: a | Iteration: 5\n",
      "Action (a/b): b\n",
      "New State: b | Reward: 7 | Total Reward: 11\n",
      "\n",
      "State: b | Iteration: 6\n",
      "Action (a/b): a\n",
      "New State: a | Reward: -5 | Total Reward: 6\n",
      "\n",
      "State: a | Iteration: 7\n",
      "Action (a/b): b\n",
      "New State: b | Reward: 7 | Total Reward: 13\n",
      "\n",
      "State: b | Iteration: 8\n",
      "Action (a/b): a\n",
      "New State: a | Reward: -5 | Total Reward: 8\n",
      "\n",
      "State: a | Iteration: 9\n",
      "Action (a/b): b\n",
      "New State: b | Reward: 7 | Total Reward: 15\n",
      "\n",
      "State: b | Iteration: 10\n",
      "Action (a/b): b\n",
      "New State: a | Reward: -5 | Total Reward: 10\n",
      "\n",
      "Alle Zustände: a -> b -> a -> b -> a -> b -> a -> b -> a -> b -> a\n",
      "Gesamte Belohnung: 10\n"
     ]
    }
   ],
   "source": [
    "def main() -> None:\n",
    "    state = \"a\"  # Startzustand\n",
    "    all_states = state\n",
    "    total_reward = 0\n",
    "\n",
    "    print(f\"\\nStart-State: {state} | Total-Reward: {total_reward}\\n\")\n",
    "\n",
    "    for i in range(1, 11):\n",
    "        print(f\"State: {state} | Iteration: {i}\")\n",
    "        action = input(\"Action (a/b): \").strip()\n",
    "\n",
    "        if action in ACTIONS:\n",
    "            # Wähle den nächsten Zustand basierend auf Wahrscheinlichkeiten\n",
    "            transition = np.random.choice(\n",
    "                list(TRANSITIONS[state].keys()),\n",
    "                p=list(TRANSITIONS[state].values())\n",
    "            )\n",
    "            reward = REWARDS[state][transition]\n",
    "            \n",
    "            # Rechne die Belohnung\n",
    "            total_reward += reward\n",
    "            all_states += \" -> \" + transition\n",
    "            state = transition\n",
    "\n",
    "            print(f\"New State: {state} | Reward: {reward} | Total Reward: {total_reward}\\n\")\n",
    "        else:\n",
    "            print(\"Ungültige Aktion. Bitte gib 'a' oder 'b' ein.\\n\")\n",
    "\n",
    "    print(\"Alle Zustände:\", all_states)\n",
    "    print(\"Gesamte Belohnung:\", total_reward)\n",
    "\n",
    "if __name__ == \"__main__\":\n",
    "    main()\n"
   ]
  },
  {
   "cell_type": "code",
   "execution_count": 28,
   "id": "fd69fd61",
   "metadata": {},
   "outputs": [
    {
     "name": "stdout",
     "output_type": "stream",
     "text": [
      "\n",
      "Start-State: a | Total-Reward: 0\n",
      "\n",
      "State: a | Iteration: 1\n",
      "New State: b | Reward: 7 | Total Reward: 7\n",
      "\n",
      "State: b | Iteration: 2\n",
      "New State: a | Reward: -5 | Total Reward: 2\n",
      "\n",
      "State: a | Iteration: 3\n",
      "New State: b | Reward: 7 | Total Reward: 9\n",
      "\n",
      "State: b | Iteration: 4\n",
      "New State: a | Reward: -5 | Total Reward: 4\n",
      "\n",
      "State: a | Iteration: 5\n",
      "New State: b | Reward: 7 | Total Reward: 11\n",
      "\n",
      "State: b | Iteration: 6\n",
      "New State: a | Reward: -5 | Total Reward: 6\n",
      "\n",
      "State: a | Iteration: 7\n",
      "New State: a | Reward: 0 | Total Reward: 6\n",
      "\n",
      "State: a | Iteration: 8\n",
      "New State: b | Reward: 7 | Total Reward: 13\n",
      "\n",
      "State: b | Iteration: 9\n",
      "New State: a | Reward: -5 | Total Reward: 8\n",
      "\n",
      "State: a | Iteration: 10\n",
      "New State: b | Reward: 7 | Total Reward: 15\n",
      "\n",
      "Alle Zustände: a -> b -> a -> b -> a -> b -> a -> a -> b -> a -> b\n",
      "Gesamte Belohnung: 15\n"
     ]
    }
   ],
   "source": [
    "my_action = [\"a\",\"b\"]\n",
    "\n",
    "\n",
    "def main() -> None:\n",
    "    state = \"a\"  # Startzustand\n",
    "    all_states = state\n",
    "    total_reward = 0\n",
    "\n",
    "    print(f\"\\nStart-State: {state} | Total-Reward: {total_reward}\\n\")\n",
    "\n",
    "    for i in range(1, 11):\n",
    "        print(f\"State: {state} | Iteration: {i}\")\n",
    "        action = np.random.choice(my_action) # Random actions\n",
    "\n",
    "        if action in ACTIONS:\n",
    "            # Wähle den nächsten Zustand basierend auf Wahrscheinlichkeiten\n",
    "            transition = np.random.choice(\n",
    "                list(TRANSITIONS[state].keys()),\n",
    "                p=list(TRANSITIONS[state].values())\n",
    "            )\n",
    "            reward = REWARDS[state][transition]\n",
    "            \n",
    "            # Rechne die Belohnung\n",
    "            total_reward += reward\n",
    "            all_states += \" -> \" + transition\n",
    "            state = transition\n",
    "\n",
    "            print(f\"New State: {state} | Reward: {reward} | Total Reward: {total_reward}\\n\")\n",
    "        else:\n",
    "            print(\"Ungültige Aktion. Bitte gib 'a' oder 'b' ein.\\n\")\n",
    "\n",
    "    print(\"Alle Zustände:\", all_states)\n",
    "    print(\"Gesamte Belohnung:\", total_reward)\n",
    "\n",
    "if __name__ == \"__main__\":\n",
    "    main()\n"
   ]
  },
  {
   "cell_type": "code",
   "execution_count": null,
   "id": "3e6ece7a",
   "metadata": {},
   "outputs": [],
   "source": [
    "SHA256:DbvKgj3DD8QyfUg2/aJodaczoIk/WmTnDU/gom93hQI"
   ]
  }
 ],
 "metadata": {
  "kernelspec": {
   "display_name": "Python 3 (ipykernel)",
   "language": "python",
   "name": "python3"
  },
  "language_info": {
   "codemirror_mode": {
    "name": "ipython",
    "version": 3
   },
   "file_extension": ".py",
   "mimetype": "text/x-python",
   "name": "python",
   "nbconvert_exporter": "python",
   "pygments_lexer": "ipython3",
   "version": "3.10.18"
  }
 },
 "nbformat": 4,
 "nbformat_minor": 5
}
