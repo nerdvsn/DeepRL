{
 "cells": [
  {
   "cell_type": "code",
   "execution_count": 1,
   "id": "60fb0926",
   "metadata": {},
   "outputs": [],
   "source": [
    "import gymnasium as gym"
   ]
  },
  {
   "cell_type": "code",
   "execution_count": 28,
   "id": "df6c26db",
   "metadata": {},
   "outputs": [],
   "source": [
    "\n",
    "# is_slippery=True (Standard)\n",
    "# Das Eis ist rutschig.\n",
    "# Deine Aktionen sind stochastisch 0.33\n",
    "\n",
    "\n",
    "# is_slippery=False\n",
    "# Das Eis ist nicht rutschig.\n",
    "# Jede Aktion ist deterministisch:\n",
    "# ein deterministisches MDP.\n",
    "\n",
    "\n",
    "env = gym.make(\"FrozenLake-v1\", is_slippery=True)"
   ]
  },
  {
   "cell_type": "code",
   "execution_count": 3,
   "id": "1b2729b4",
   "metadata": {},
   "outputs": [
    {
     "data": {
      "text/plain": [
       "Discrete(4)"
      ]
     },
     "execution_count": 3,
     "metadata": {},
     "output_type": "execute_result"
    }
   ],
   "source": [
    "env.action_space"
   ]
  },
  {
   "cell_type": "code",
   "execution_count": 13,
   "id": "3a361899",
   "metadata": {},
   "outputs": [
    {
     "data": {
      "text/plain": [
       "np.int64(1)"
      ]
     },
     "execution_count": 13,
     "metadata": {},
     "output_type": "execute_result"
    }
   ],
   "source": [
    "env.action_space.sample()"
   ]
  },
  {
   "cell_type": "code",
   "execution_count": 4,
   "id": "3699dfe9",
   "metadata": {},
   "outputs": [
    {
     "data": {
      "text/plain": [
       "Discrete(16)"
      ]
     },
     "execution_count": 4,
     "metadata": {},
     "output_type": "execute_result"
    }
   ],
   "source": [
    "env.observation_space"
   ]
  },
  {
   "cell_type": "code",
   "execution_count": 17,
   "id": "307c9992",
   "metadata": {},
   "outputs": [
    {
     "data": {
      "text/plain": [
       "np.int64(13)"
      ]
     },
     "execution_count": 17,
     "metadata": {},
     "output_type": "execute_result"
    }
   ],
   "source": [
    "env.observation_space.sample()"
   ]
  },
  {
   "cell_type": "code",
   "execution_count": 25,
   "id": "8f588e35",
   "metadata": {},
   "outputs": [
    {
     "data": {
      "text/plain": [
       "[(0.3333333333333333, 0, 0.0, False),\n",
       " (0.3333333333333333, 4, 0.0, False),\n",
       " (0.3333333333333333, 1, 0.0, False)]"
      ]
     },
     "execution_count": 25,
     "metadata": {},
     "output_type": "execute_result"
    }
   ],
   "source": [
    "P = env.unwrapped.P\n",
    "P[0][1]"
   ]
  },
  {
   "cell_type": "code",
   "execution_count": 26,
   "id": "62a5a94d",
   "metadata": {},
   "outputs": [
    {
     "name": "stdout",
     "output_type": "stream",
     "text": [
      "Zustand 0, Aktion 0: [(0.3333333333333333, 0, 0.0, False), (0.3333333333333333, 0, 0.0, False), (0.3333333333333333, 4, 0.0, False)]\n",
      "Zustand 0, Aktion 1: [(0.3333333333333333, 0, 0.0, False), (0.3333333333333333, 4, 0.0, False), (0.3333333333333333, 1, 0.0, False)]\n",
      "Zustand 0, Aktion 2: [(0.3333333333333333, 4, 0.0, False), (0.3333333333333333, 1, 0.0, False), (0.3333333333333333, 0, 0.0, False)]\n",
      "Zustand 0, Aktion 3: [(0.3333333333333333, 1, 0.0, False), (0.3333333333333333, 0, 0.0, False), (0.3333333333333333, 0, 0.0, False)]\n",
      "Zustand 1, Aktion 0: [(0.3333333333333333, 1, 0.0, False), (0.3333333333333333, 0, 0.0, False), (0.3333333333333333, 5, 0.0, True)]\n",
      "Zustand 1, Aktion 1: [(0.3333333333333333, 0, 0.0, False), (0.3333333333333333, 5, 0.0, True), (0.3333333333333333, 2, 0.0, False)]\n",
      "Zustand 1, Aktion 2: [(0.3333333333333333, 5, 0.0, True), (0.3333333333333333, 2, 0.0, False), (0.3333333333333333, 1, 0.0, False)]\n",
      "Zustand 1, Aktion 3: [(0.3333333333333333, 2, 0.0, False), (0.3333333333333333, 1, 0.0, False), (0.3333333333333333, 0, 0.0, False)]\n",
      "Zustand 2, Aktion 0: [(0.3333333333333333, 2, 0.0, False), (0.3333333333333333, 1, 0.0, False), (0.3333333333333333, 6, 0.0, False)]\n",
      "Zustand 2, Aktion 1: [(0.3333333333333333, 1, 0.0, False), (0.3333333333333333, 6, 0.0, False), (0.3333333333333333, 3, 0.0, False)]\n",
      "Zustand 2, Aktion 2: [(0.3333333333333333, 6, 0.0, False), (0.3333333333333333, 3, 0.0, False), (0.3333333333333333, 2, 0.0, False)]\n",
      "Zustand 2, Aktion 3: [(0.3333333333333333, 3, 0.0, False), (0.3333333333333333, 2, 0.0, False), (0.3333333333333333, 1, 0.0, False)]\n",
      "Zustand 3, Aktion 0: [(0.3333333333333333, 3, 0.0, False), (0.3333333333333333, 2, 0.0, False), (0.3333333333333333, 7, 0.0, True)]\n",
      "Zustand 3, Aktion 1: [(0.3333333333333333, 2, 0.0, False), (0.3333333333333333, 7, 0.0, True), (0.3333333333333333, 3, 0.0, False)]\n",
      "Zustand 3, Aktion 2: [(0.3333333333333333, 7, 0.0, True), (0.3333333333333333, 3, 0.0, False), (0.3333333333333333, 3, 0.0, False)]\n",
      "Zustand 3, Aktion 3: [(0.3333333333333333, 3, 0.0, False), (0.3333333333333333, 3, 0.0, False), (0.3333333333333333, 2, 0.0, False)]\n",
      "Zustand 4, Aktion 0: [(0.3333333333333333, 0, 0.0, False), (0.3333333333333333, 4, 0.0, False), (0.3333333333333333, 8, 0.0, False)]\n",
      "Zustand 4, Aktion 1: [(0.3333333333333333, 4, 0.0, False), (0.3333333333333333, 8, 0.0, False), (0.3333333333333333, 5, 0.0, True)]\n",
      "Zustand 4, Aktion 2: [(0.3333333333333333, 8, 0.0, False), (0.3333333333333333, 5, 0.0, True), (0.3333333333333333, 0, 0.0, False)]\n",
      "Zustand 4, Aktion 3: [(0.3333333333333333, 5, 0.0, True), (0.3333333333333333, 0, 0.0, False), (0.3333333333333333, 4, 0.0, False)]\n",
      "Zustand 5, Aktion 0: [(1.0, 5, 0, True)]\n",
      "Zustand 5, Aktion 1: [(1.0, 5, 0, True)]\n",
      "Zustand 5, Aktion 2: [(1.0, 5, 0, True)]\n",
      "Zustand 5, Aktion 3: [(1.0, 5, 0, True)]\n",
      "Zustand 6, Aktion 0: [(0.3333333333333333, 2, 0.0, False), (0.3333333333333333, 5, 0.0, True), (0.3333333333333333, 10, 0.0, False)]\n",
      "Zustand 6, Aktion 1: [(0.3333333333333333, 5, 0.0, True), (0.3333333333333333, 10, 0.0, False), (0.3333333333333333, 7, 0.0, True)]\n",
      "Zustand 6, Aktion 2: [(0.3333333333333333, 10, 0.0, False), (0.3333333333333333, 7, 0.0, True), (0.3333333333333333, 2, 0.0, False)]\n",
      "Zustand 6, Aktion 3: [(0.3333333333333333, 7, 0.0, True), (0.3333333333333333, 2, 0.0, False), (0.3333333333333333, 5, 0.0, True)]\n",
      "Zustand 7, Aktion 0: [(1.0, 7, 0, True)]\n",
      "Zustand 7, Aktion 1: [(1.0, 7, 0, True)]\n",
      "Zustand 7, Aktion 2: [(1.0, 7, 0, True)]\n",
      "Zustand 7, Aktion 3: [(1.0, 7, 0, True)]\n",
      "Zustand 8, Aktion 0: [(0.3333333333333333, 4, 0.0, False), (0.3333333333333333, 8, 0.0, False), (0.3333333333333333, 12, 0.0, True)]\n",
      "Zustand 8, Aktion 1: [(0.3333333333333333, 8, 0.0, False), (0.3333333333333333, 12, 0.0, True), (0.3333333333333333, 9, 0.0, False)]\n",
      "Zustand 8, Aktion 2: [(0.3333333333333333, 12, 0.0, True), (0.3333333333333333, 9, 0.0, False), (0.3333333333333333, 4, 0.0, False)]\n",
      "Zustand 8, Aktion 3: [(0.3333333333333333, 9, 0.0, False), (0.3333333333333333, 4, 0.0, False), (0.3333333333333333, 8, 0.0, False)]\n",
      "Zustand 9, Aktion 0: [(0.3333333333333333, 5, 0.0, True), (0.3333333333333333, 8, 0.0, False), (0.3333333333333333, 13, 0.0, False)]\n",
      "Zustand 9, Aktion 1: [(0.3333333333333333, 8, 0.0, False), (0.3333333333333333, 13, 0.0, False), (0.3333333333333333, 10, 0.0, False)]\n",
      "Zustand 9, Aktion 2: [(0.3333333333333333, 13, 0.0, False), (0.3333333333333333, 10, 0.0, False), (0.3333333333333333, 5, 0.0, True)]\n",
      "Zustand 9, Aktion 3: [(0.3333333333333333, 10, 0.0, False), (0.3333333333333333, 5, 0.0, True), (0.3333333333333333, 8, 0.0, False)]\n",
      "Zustand 10, Aktion 0: [(0.3333333333333333, 6, 0.0, False), (0.3333333333333333, 9, 0.0, False), (0.3333333333333333, 14, 0.0, False)]\n",
      "Zustand 10, Aktion 1: [(0.3333333333333333, 9, 0.0, False), (0.3333333333333333, 14, 0.0, False), (0.3333333333333333, 11, 0.0, True)]\n",
      "Zustand 10, Aktion 2: [(0.3333333333333333, 14, 0.0, False), (0.3333333333333333, 11, 0.0, True), (0.3333333333333333, 6, 0.0, False)]\n",
      "Zustand 10, Aktion 3: [(0.3333333333333333, 11, 0.0, True), (0.3333333333333333, 6, 0.0, False), (0.3333333333333333, 9, 0.0, False)]\n",
      "Zustand 11, Aktion 0: [(1.0, 11, 0, True)]\n",
      "Zustand 11, Aktion 1: [(1.0, 11, 0, True)]\n",
      "Zustand 11, Aktion 2: [(1.0, 11, 0, True)]\n",
      "Zustand 11, Aktion 3: [(1.0, 11, 0, True)]\n",
      "Zustand 12, Aktion 0: [(1.0, 12, 0, True)]\n",
      "Zustand 12, Aktion 1: [(1.0, 12, 0, True)]\n",
      "Zustand 12, Aktion 2: [(1.0, 12, 0, True)]\n",
      "Zustand 12, Aktion 3: [(1.0, 12, 0, True)]\n",
      "Zustand 13, Aktion 0: [(0.3333333333333333, 9, 0.0, False), (0.3333333333333333, 12, 0.0, True), (0.3333333333333333, 13, 0.0, False)]\n",
      "Zustand 13, Aktion 1: [(0.3333333333333333, 12, 0.0, True), (0.3333333333333333, 13, 0.0, False), (0.3333333333333333, 14, 0.0, False)]\n",
      "Zustand 13, Aktion 2: [(0.3333333333333333, 13, 0.0, False), (0.3333333333333333, 14, 0.0, False), (0.3333333333333333, 9, 0.0, False)]\n",
      "Zustand 13, Aktion 3: [(0.3333333333333333, 14, 0.0, False), (0.3333333333333333, 9, 0.0, False), (0.3333333333333333, 12, 0.0, True)]\n",
      "Zustand 14, Aktion 0: [(0.3333333333333333, 10, 0.0, False), (0.3333333333333333, 13, 0.0, False), (0.3333333333333333, 14, 0.0, False)]\n",
      "Zustand 14, Aktion 1: [(0.3333333333333333, 13, 0.0, False), (0.3333333333333333, 14, 0.0, False), (0.3333333333333333, 15, 1.0, True)]\n",
      "Zustand 14, Aktion 2: [(0.3333333333333333, 14, 0.0, False), (0.3333333333333333, 15, 1.0, True), (0.3333333333333333, 10, 0.0, False)]\n",
      "Zustand 14, Aktion 3: [(0.3333333333333333, 15, 1.0, True), (0.3333333333333333, 10, 0.0, False), (0.3333333333333333, 13, 0.0, False)]\n",
      "Zustand 15, Aktion 0: [(1.0, 15, 0, True)]\n",
      "Zustand 15, Aktion 1: [(1.0, 15, 0, True)]\n",
      "Zustand 15, Aktion 2: [(1.0, 15, 0, True)]\n",
      "Zustand 15, Aktion 3: [(1.0, 15, 0, True)]\n"
     ]
    }
   ],
   "source": [
    "for s in P:\n",
    "    for a in P[s]:\n",
    "        print(f\"Zustand {s}, Aktion {a}: {P[s][a]}\")"
   ]
  },
  {
   "cell_type": "markdown",
   "id": "7fcc8cff",
   "metadata": {},
   "source": [
    "###  Eigene Map definieren\n",
    "\n",
    "* map_name und desc nicht gleichzeitig setzen (entweder Standard-Map oder eigene Map).\n",
    "\n",
    "* Mit is_slippery=True/False bestimmst du, ob die Bewegungen deterministisch oder stochastisch sind."
   ]
  },
  {
   "cell_type": "code",
   "execution_count": 30,
   "id": "71606c96",
   "metadata": {},
   "outputs": [],
   "source": [
    "import gymnasium as gym\n",
    "\n",
    "custom_map = [\n",
    "    \"SFFF\",\n",
    "    \"FHFH\",\n",
    "    \"FFFH\",\n",
    "    \"HFFG\"\n",
    "]\n",
    "\n",
    "env = gym.make(\"FrozenLake-v1\", desc=custom_map, is_slippery=False)\n"
   ]
  },
  {
   "cell_type": "code",
   "execution_count": 32,
   "id": "90fb9e43",
   "metadata": {},
   "outputs": [],
   "source": [
    "# Mögliche map_name: \"4x4\", \"8x8\"\n",
    "# Diese Maps sind vordefiniert.\n",
    "env = gym.make(\"FrozenLake-v1\", map_name=\"4x4\", is_slippery=True)"
   ]
  },
  {
   "cell_type": "code",
   "execution_count": 33,
   "id": "87b6a5ec",
   "metadata": {},
   "outputs": [
    {
     "data": {
      "text/plain": [
       "Discrete(4)"
      ]
     },
     "execution_count": 33,
     "metadata": {},
     "output_type": "execute_result"
    }
   ],
   "source": [
    "env.action_space"
   ]
  },
  {
   "cell_type": "code",
   "execution_count": 38,
   "id": "c7270e0d",
   "metadata": {},
   "outputs": [
    {
     "name": "stdout",
     "output_type": "stream",
     "text": [
      "4\n"
     ]
    }
   ],
   "source": [
    "action = env.action_space.n # als Numpy\n",
    "print(action)"
   ]
  },
  {
   "cell_type": "code",
   "execution_count": 43,
   "id": "6a6744cd",
   "metadata": {},
   "outputs": [
    {
     "data": {
      "text/plain": [
       "Discrete(16)"
      ]
     },
     "execution_count": 43,
     "metadata": {},
     "output_type": "execute_result"
    }
   ],
   "source": [
    "obs = env.observation_space\n",
    "obs"
   ]
  },
  {
   "cell_type": "code",
   "execution_count": 44,
   "id": "8ef3ffea",
   "metadata": {},
   "outputs": [
    {
     "name": "stdout",
     "output_type": "stream",
     "text": [
      "16\n"
     ]
    }
   ],
   "source": [
    "obs = env.observation_space.n\n",
    "print(obs)"
   ]
  },
  {
   "cell_type": "code",
   "execution_count": 45,
   "id": "f01e9761",
   "metadata": {},
   "outputs": [],
   "source": [
    "import numpy as np"
   ]
  },
  {
   "cell_type": "code",
   "execution_count": 46,
   "id": "f7c573ec",
   "metadata": {},
   "outputs": [],
   "source": [
    "best = -np.inf"
   ]
  },
  {
   "cell_type": "code",
   "execution_count": 47,
   "id": "c5695de7",
   "metadata": {},
   "outputs": [
    {
     "data": {
      "text/plain": [
       "-inf"
      ]
     },
     "execution_count": 47,
     "metadata": {},
     "output_type": "execute_result"
    }
   ],
   "source": [
    "best"
   ]
  }
 ],
 "metadata": {
  "kernelspec": {
   "display_name": "Python 3 (ipykernel)",
   "language": "python",
   "name": "python3"
  },
  "language_info": {
   "codemirror_mode": {
    "name": "ipython",
    "version": 3
   },
   "file_extension": ".py",
   "mimetype": "text/x-python",
   "name": "python",
   "nbconvert_exporter": "python",
   "pygments_lexer": "ipython3",
   "version": "3.10.13"
  }
 },
 "nbformat": 4,
 "nbformat_minor": 5
}
