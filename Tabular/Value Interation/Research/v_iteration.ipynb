{
 "cells": [
  {
   "cell_type": "code",
   "execution_count": 1,
   "id": "33f2e26c",
   "metadata": {},
   "outputs": [],
   "source": [
    "import numpy as np\n",
    "\n",
    "def value_iteration_from_env(env, gamma=0.99, theta=1e-8, max_iters=10_000):\n",
    "    \"\"\"\n",
    "    Reine Value Iteration.\n",
    "    Erwartet ein Gymnasium-Env mit env.unwrapped.P:\n",
    "      P[s][a] = Liste von (prob, s_next, reward, done)\n",
    "    Gibt nur V (Value-Funktion) zurück.\n",
    "    \"\"\"\n",
    "    P = env.unwrapped.P\n",
    "    nS = env.observation_space.n\n",
    "    nA = env.action_space.n\n",
    "\n",
    "    V = np.zeros(nS, dtype=np.float64)   # Initialize V(s)\n",
    "\n",
    "    for _ in range(max_iters):\n",
    "        delta = 0.0                      # Δ ← 0\n",
    "        for s in range(nS):              # for each s ∈ S\n",
    "            v_old = V[s]                 # v ← V(s)\n",
    "\n",
    "            # V(s) ← max_a Σ_{s'} p(s'|s,a) [ r + γ V(s') ]\n",
    "            best = -np.inf\n",
    "            for a in range(nA):\n",
    "                q = 0.0\n",
    "                for prob, s_next, r, done in P[s][a]:\n",
    "                    q += prob * (r + (0.0 if done else gamma * V[s_next]))\n",
    "                if q > best:\n",
    "                    best = q\n",
    "            V[s] = best\n",
    "\n",
    "            delta = max(delta, abs(v_old - V[s]))  # Δ ← max(Δ, |v − V(s)|)\n",
    "\n",
    "        if delta < theta:                 # until Δ < θ\n",
    "            break\n",
    "\n",
    "    return V\n"
   ]
  },
  {
   "cell_type": "code",
   "execution_count": 2,
   "id": "dbc316c5",
   "metadata": {},
   "outputs": [
    {
     "name": "stdout",
     "output_type": "stream",
     "text": [
      "[0.95099005 0.96059601 0.970299   0.96059601 0.96059601 0.\n",
      " 0.9801     0.         0.970299   0.9801     0.99       0.\n",
      " 0.         0.99       1.         0.        ]\n"
     ]
    }
   ],
   "source": [
    "import gymnasium as gym\n",
    "env = gym.make(\"FrozenLake-v1\", map_name=\"4x4\", is_slippery=False)\n",
    "V = value_iteration_from_env(env)\n",
    "print(V)\n"
   ]
  },
  {
   "cell_type": "code",
   "execution_count": 4,
   "id": "038a1598",
   "metadata": {},
   "outputs": [],
   "source": [
    "import numpy as np\n",
    "\n",
    "# Gymnasium-Aktionsreihenfolge bei FrozenLake:\n",
    "# 0 = Left, 1 = Down, 2 = Right, 3 = Up\n",
    "\n",
    "def extract_policy_from_env(env, V, gamma=0.99):\n",
    "    P = env.unwrapped.P\n",
    "    nS = env.observation_space.n\n",
    "    nA = env.action_space.n\n",
    "    pi = np.zeros(nS, dtype=int)\n",
    "\n",
    "    for s in range(nS):\n",
    "        q = np.zeros(nA, dtype=float)\n",
    "        for a in range(nA):\n",
    "            for prob, s_next, r, done in P[s][a]:\n",
    "                q[a] += prob * (r + (0.0 if done else gamma * V[s_next]))\n",
    "        pi[s] = int(np.argmax(q))\n",
    "    return pi\n"
   ]
  },
  {
   "cell_type": "code",
   "execution_count": 5,
   "id": "a3821000",
   "metadata": {},
   "outputs": [
    {
     "name": "stdout",
     "output_type": "stream",
     "text": [
      "\n",
      "Policy als Pfeile:\n",
      "S → ↓ ←\n",
      "↓ H ↓ H\n",
      "→ ↓ ↓ H\n",
      "H → → G\n"
     ]
    }
   ],
   "source": [
    "pi = extract_policy_from_env(env, V)\n",
    "\n",
    "# optional: als Pfeile ausgeben\n",
    "arrow = {0:\"←\", 1:\"↓\", 2:\"→\", 3:\"↑\"}\n",
    "n = int(np.sqrt(env.observation_space.n))\n",
    "grid = env.unwrapped.desc.astype(str).copy()\n",
    "for s,a in enumerate(pi):\n",
    "    r,c = divmod(s, n)\n",
    "    if grid[r,c] not in (\"H\",\"G\",\"S\"):\n",
    "        grid[r,c] = arrow[a]\n",
    "print(\"\\nPolicy als Pfeile:\")\n",
    "for r in range(n):\n",
    "    print(\" \".join(grid[r]))\n"
   ]
  },
  {
   "cell_type": "code",
   "execution_count": null,
   "id": "fe951097",
   "metadata": {},
   "outputs": [],
   "source": []
  }
 ],
 "metadata": {
  "kernelspec": {
   "display_name": "Python 3 (ipykernel)",
   "language": "python",
   "name": "python3"
  },
  "language_info": {
   "codemirror_mode": {
    "name": "ipython",
    "version": 3
   },
   "file_extension": ".py",
   "mimetype": "text/x-python",
   "name": "python",
   "nbconvert_exporter": "python",
   "pygments_lexer": "ipython3",
   "version": "3.10.13"
  }
 },
 "nbformat": 4,
 "nbformat_minor": 5
}
